{
 "cells": [
  {
   "cell_type": "code",
   "execution_count": 525,
   "id": "227c0aef-2d8a-4330-84fe-cb97046ef682",
   "metadata": {
    "tags": []
   },
   "outputs": [
    {
     "data": {
      "text/plain": [
       "' Pybank will present the total months, total sum, average change,\\ngreatest increase and decrease of the data below'"
      ]
     },
     "execution_count": 525,
     "metadata": {},
     "output_type": "execute_result"
    }
   ],
   "source": [
    "\"\"\" Pybank will present the total months, total sum, average change,\n",
    "greatest increase and decrease of the data below\"\"\""
   ]
  },
  {
   "cell_type": "code",
   "execution_count": 526,
   "id": "8193ec2b-8e28-4daf-a060-a5635a3f0a60",
   "metadata": {
    "tags": []
   },
   "outputs": [],
   "source": [
    "csv_path= Path (\"../PyBank/budget_data.csv\")\n",
    "csv_bank= pd.read_csv(csv_path)"
   ]
  },
  {
   "cell_type": "code",
   "execution_count": 527,
   "id": "c4556931-4588-43d1-b90f-86418d27ce85",
   "metadata": {
    "tags": []
   },
   "outputs": [],
   "source": [
    "from pathlib import Path\n",
    "import csv"
   ]
  },
  {
   "cell_type": "code",
   "execution_count": 528,
   "id": "cddf5c59-a8a1-4900-93ea-94fcdb9d4bf2",
   "metadata": {
    "tags": []
   },
   "outputs": [],
   "source": [
    "# Set the file path\n",
    "csvpath = Path(\"budget_data.csv\")"
   ]
  },
  {
   "cell_type": "code",
   "execution_count": 529,
   "id": "c3f522e9-3941-41b9-ad0d-cbe1b4c2028f",
   "metadata": {},
   "outputs": [
    {
     "name": "stdout",
     "output_type": "stream",
     "text": [
      "Financial Analysis\n"
     ]
    }
   ],
   "source": [
    "Title = 'Financial Analysis' \n",
    "print(Title)"
   ]
  },
  {
   "cell_type": "code",
   "execution_count": 530,
   "id": "3a35ef8a-7bfb-4a00-9abd-f762f186b4d5",
   "metadata": {
    "tags": []
   },
   "outputs": [
    {
     "name": "stdout",
     "output_type": "stream",
     "text": [
      "----------------------------\n"
     ]
    }
   ],
   "source": [
    "Dash = '----------------------------'\n",
    "print(Dash)\n"
   ]
  },
  {
   "cell_type": "code",
   "execution_count": 531,
   "id": "f364dfb0-671b-4731-9a06-95f2a781dcdd",
   "metadata": {
    "tags": []
   },
   "outputs": [],
   "source": [
    "# Initialize dictionary\n",
    "changes_count = 0\n",
    "total_months = 0\n",
    "total_sum = 0\n",
    "change = 0 \n",
    "previous_value = 0\n",
    "changes = []\n",
    "total_change = 0\n",
    "greatest_increase = 0\n",
    "greatest_increase_date = 0 \n",
    "greatest_decrease = 0\n",
    "greatest_decrease_date = 0\n",
    "average_change = 0\n",
    "\n"
   ]
  },
  {
   "cell_type": "code",
   "execution_count": 532,
   "id": "30f40b31-420c-4ab2-89fb-c591174daf9b",
   "metadata": {},
   "outputs": [
    {
     "name": "stdout",
     "output_type": "stream",
     "text": [
      "Financial Analysis\n",
      "----------------------------\n",
      "Total Months: 86\n",
      "Total Sum: 38382578\n",
      "Average Change: $ -2315.12\n",
      "Greatest Increase in Profits: $ {1926159} Feb-2012\n",
      "Greatest Decrease in Profits: $ {-2196167} Sep-2013\n"
     ]
    }
   ],
   "source": [
    "\n",
    "\n",
    "\n",
    "with open(csv_path, \"r\") as csvfile:\n",
    "    csv_reader = csv.reader(csvfile, delimiter= \",\")\n",
    "    csv_header = next(csv_reader)\n",
    "    for line in csv_reader:\n",
    "        # print(line[1])\n",
    "        \n",
    "    \n",
    "    \n",
    "    \n",
    "        total_months += 1              #Calculating Total Months and Sum \n",
    "        total_sum += int(line[1])\n",
    "        \n",
    "               \n",
    "        \n",
    "        if total_months >= 2:\n",
    "            change = int(line[1]) - previous_value     #Calculating Average Change \n",
    "            changes.append(change) \n",
    "             \n",
    "            # print(\"change =\", change, \" \", line[1]) \n",
    "            total_change += change\n",
    "            changes_count += 1\n",
    "        \n",
    "        if change > greatest_increase:      #Calculating Greatest Increase \n",
    "            greatest_increase = change\n",
    "            greatest_increase_date = line[0]\n",
    "            \n",
    "       \n",
    "        \n",
    "        if change < greatest_decrease:       #Calculating Greatest Decrease\n",
    "            greatest_decrease = change\n",
    "            greatest_decrease_date = line[0]\n",
    "        \n",
    "        previous_value = int(line[1])\n",
    "average_change = total_change / changes_count     \n",
    "\n",
    "\n",
    "\n",
    "\n",
    "                    \n",
    "        \n",
    "print(Title)  \n",
    "print(Dash)\n",
    "print(\"Total Months:\",total_months)\n",
    "print(\"Total Sum:\",total_sum)\n",
    "print(\"Average Change:\",\"$\",(round(average_change,2)))\n",
    "print(\"Greatest Increase in Profits:\",\"$\",{greatest_increase}, greatest_increase_date)\n",
    "print(\"Greatest Decrease in Profits:\",\"$\",{greatest_decrease}, greatest_decrease_date)\n"
   ]
  },
  {
   "cell_type": "code",
   "execution_count": null,
   "id": "a9b5beb8-2cce-4209-ab93-74f5b47066a5",
   "metadata": {},
   "outputs": [],
   "source": []
  }
 ],
 "metadata": {
  "kernelspec": {
   "display_name": "Python 3 (ipykernel)",
   "language": "python",
   "name": "python3"
  },
  "language_info": {
   "codemirror_mode": {
    "name": "ipython",
    "version": 3
   },
   "file_extension": ".py",
   "mimetype": "text/x-python",
   "name": "python",
   "nbconvert_exporter": "python",
   "pygments_lexer": "ipython3",
   "version": "3.11.5"
  }
 },
 "nbformat": 4,
 "nbformat_minor": 5
}
